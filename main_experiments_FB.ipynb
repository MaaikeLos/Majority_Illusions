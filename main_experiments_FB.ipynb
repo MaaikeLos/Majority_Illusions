{
 "cells": [
  {
   "cell_type": "code",
   "execution_count": 1,
   "metadata": {},
   "outputs": [],
   "source": [
    "import os\n",
    "import networkx as nx\n",
    "import numpy as np     \n",
    "import pandas as pd\n",
    "from help_functions_misc import *"
   ]
  },
  {
   "cell_type": "code",
   "execution_count": 2,
   "metadata": {},
   "outputs": [],
   "source": [
    "# Facebook:\n",
    "\n",
    "#Get facebook data: \n",
    "facebook = pd.read_csv(\n",
    "    \"facebook_combined.txt.gz\",\n",
    "    compression=\"gzip\",\n",
    "    sep=\" \",\n",
    "    names=[\"start_node\", \"end_node\"],\n",
    ")\n",
    "G_fb = nx.from_pandas_edgelist(facebook, \"start_node\", \"end_node\")"
   ]
  },
  {
   "cell_type": "code",
   "execution_count": 3,
   "metadata": {},
   "outputs": [],
   "source": [
    "def run_experiment_Facebook(G, nr_epochs, p_blue_values): \n",
    "# Test for majority majority illusion and weak versions on different colorings of a Facebook network. \n",
    "\n",
    "    path = os.getcwd() +'/Data/'\n",
    "    filename =  'FB_data.csv'\n",
    "\n",
    "    data = pd.DataFrame(columns=['p_blue', 'proportion_blue_global', 'mi', 'wmi','nr_nodes_str_ill', 'nr_nodes_weak_ill', 'MSE', 'MSE_no_illusion', 'MSE_any_illusion', 'MSE_strict_illusion', 'probability_mixed_edge', 'actual_fraction_mixed_edges']) #create empty dataframe\n",
    "    \n",
    "    for p_blue in p_blue_values:\n",
    "        print(f'p_blue: {p_blue}') #To keep track of where we are\n",
    "        for epoch in range(nr_epochs):\n",
    "            (nr_red_nodes, nr_blue_nodes) = color_randomly(G, p_blue)\n",
    "            (nr_edges, nr_mixed_edges) = color_edges(G)\n",
    "            (probability_mixed_edge, actual_fraction_mixed_edges) = homopily(4039, nr_red_nodes, nr_blue_nodes, nr_edges, nr_mixed_edges)\n",
    "                    \n",
    "            (has_strict_illusion, has_weak_illusion, nr_strict_illusion, nr_any_illusion, proportion_blue_global, MSE, MSE_no_illusion, MSE_any_illusion, MSE_strict_illusion, sum_squared_error_no_illusion, sum_squared_error_any_illusion, sum_squared_error_strict_illusion) = check_illusion_and_MSE(G)  \n",
    "\n",
    "            # Other measures of G: not necessary since we check only one graph.\n",
    "          \n",
    "            # Save data:\n",
    "            newrow = pd.DataFrame({'p_blue': [p_blue], 'proportion_blue_global':[proportion_blue_global], 'mi': [has_strict_illusion], 'wmi': [has_weak_illusion], 'nr_nodes_str_ill': [nr_strict_illusion], 'nr_nodes_weak_ill': [nr_any_illusion],  'MSE': [MSE],  'MSE_no_illusion' : [MSE_no_illusion], 'MSE_any_illusion' : [MSE_any_illusion], 'MSE_strict_illusion': [MSE_strict_illusion], 'sum_squared_error_no_illusion': [sum_squared_error_no_illusion], 'sum_squared_error_any_illusion': [sum_squared_error_any_illusion], 'sum_squared_error_strict_illusion': [sum_squared_error_strict_illusion], 'probability_mixed_edge': [probability_mixed_edge], 'actual_fraction_mixed_edges' : [actual_fraction_mixed_edges]})\n",
    "            data = pd.concat([data, newrow], ignore_index=True)\n",
    "    data.to_csv(path+filename, header=True, sep=';')\n",
    "    return data"
   ]
  },
  {
   "cell_type": "code",
   "execution_count": null,
   "metadata": {},
   "outputs": [
    {
     "name": "stdout",
     "output_type": "stream",
     "text": [
      "p_blue: 0.1\n",
      "p_blue: 0.2\n",
      "p_blue: 0.3\n",
      "p_blue: 0.4\n",
      "p_blue: 0.5\n"
     ]
    }
   ],
   "source": [
    "nr_epochs = 1000\n",
    "\n",
    "p_blue_values = np.arange(0.1, 0.5+0.01, 0.1).tolist()\n",
    "p_blue_values = np.around(p_blue_values, 2) # To change 0.600000001 into 0.6\n",
    "\n",
    "FB_data = run_experiment_Facebook(G_fb, nr_epochs, p_blue_values)"
   ]
  }
 ],
 "metadata": {
  "kernelspec": {
   "display_name": "Python 3",
   "language": "python",
   "name": "python3"
  },
  "language_info": {
   "codemirror_mode": {
    "name": "ipython",
    "version": 3
   },
   "file_extension": ".py",
   "mimetype": "text/x-python",
   "name": "python",
   "nbconvert_exporter": "python",
   "pygments_lexer": "ipython3",
   "version": "3.10.5"
  }
 },
 "nbformat": 4,
 "nbformat_minor": 2
}
